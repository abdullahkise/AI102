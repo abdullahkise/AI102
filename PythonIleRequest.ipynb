{
 "cells": [
  {
   "cell_type": "code",
   "execution_count": 2,
   "id": "dc129dbd",
   "metadata": {},
   "outputs": [],
   "source": [
    "import requests"
   ]
  },
  {
   "cell_type": "markdown",
   "id": "1689df6d",
   "metadata": {},
   "source": [
    "### Header Oluşturalım"
   ]
  },
  {
   "cell_type": "code",
   "execution_count": 24,
   "id": "526cf3a0",
   "metadata": {},
   "outputs": [],
   "source": [
    "location = \"northeurope\"\n",
    "key_enpoint=\"3245a04be4774714809ad19ac18df644\""
   ]
  },
  {
   "cell_type": "code",
   "execution_count": 25,
   "id": "e01ff657",
   "metadata": {},
   "outputs": [],
   "source": [
    "service_url = f\"https://{location}.api.cognitive.microsoft.com/text/analytics/v3.0/languages\"\n",
    "\n",
    "header = {\n",
    "            \"Content-Type\":\"application/json\",\n",
    "            \"Ocp-Apim-Subscription-Key\":key_enpoint\n",
    "        }"
   ]
  },
  {
   "cell_type": "markdown",
   "id": "2a4e5b03",
   "metadata": {},
   "source": [
    "### Body oluşturalım"
   ]
  },
  {
   "cell_type": "code",
   "execution_count": 43,
   "id": "d6f747b4",
   "metadata": {},
   "outputs": [
    {
     "data": {
      "text/plain": [
       "'\\n{\\n  \"documents\": [\\n    {\\n      \"id\": \"1\",\\n      \"text\": \"merhaba dünyalı!\"\\n    }\\n  ]\\n}\\n\\n'"
      ]
     },
     "execution_count": 43,
     "metadata": {},
     "output_type": "execute_result"
    }
   ],
   "source": [
    "metinler = [\"Merhaba dünyalı\", \"How are you?\",\"Bonjour\"]\n",
    "\n",
    "body_dict = { \"documents\":[{\"id\":str(i), \"text\":metinler[i]} for i in range(len(metinler))]}\n",
    "body_dict\n",
    "'''\n",
    "{\n",
    "  \"documents\": [\n",
    "    {\n",
    "      \"id\": \"1\",\n",
    "      \"text\": \"merhaba dünyalı!\"\n",
    "    }\n",
    "  ]\n",
    "}\n",
    "\n",
    "'''"
   ]
  },
  {
   "cell_type": "code",
   "execution_count": 44,
   "id": "41b52359",
   "metadata": {},
   "outputs": [],
   "source": [
    "cevap = requests.post(service_url, headers=header, data=str(body_dict).encode(\"utf-8\"))"
   ]
  },
  {
   "cell_type": "code",
   "execution_count": 45,
   "id": "8d09c137",
   "metadata": {},
   "outputs": [],
   "source": [
    "cevap_dict = cevap.json() #dict\n",
    "#cevap_dict"
   ]
  },
  {
   "cell_type": "code",
   "execution_count": 46,
   "id": "5a03f56c",
   "metadata": {},
   "outputs": [
    {
     "data": {
      "text/plain": [
       "[{'id': '0',\n",
       "  'detectedLanguage': {'name': 'Turkish',\n",
       "   'iso6391Name': 'tr',\n",
       "   'confidenceScore': 1.0},\n",
       "  'warnings': []},\n",
       " {'id': '1',\n",
       "  'detectedLanguage': {'name': 'English',\n",
       "   'iso6391Name': 'en',\n",
       "   'confidenceScore': 1.0},\n",
       "  'warnings': []},\n",
       " {'id': '2',\n",
       "  'detectedLanguage': {'name': 'French',\n",
       "   'iso6391Name': 'fr',\n",
       "   'confidenceScore': 1.0},\n",
       "  'warnings': []}]"
      ]
     },
     "execution_count": 46,
     "metadata": {},
     "output_type": "execute_result"
    }
   ],
   "source": [
    "cevap_dict[\"documents\"]"
   ]
  },
  {
   "cell_type": "markdown",
   "id": "5ba82024",
   "metadata": {},
   "source": [
    "#### Metin ve Çevirisi"
   ]
  },
  {
   "cell_type": "code",
   "execution_count": 47,
   "id": "a9cd513c",
   "metadata": {},
   "outputs": [
    {
     "name": "stdout",
     "output_type": "stream",
     "text": [
      "Merhaba dünyalı ---> Turkish\n",
      "How are you? ---> English\n",
      "Bonjour ---> French\n"
     ]
    }
   ],
   "source": [
    "cumle = body_dict[\"documents\"]\n",
    "dili  = cevap_dict[\"documents\"]\n",
    "\n",
    "for c,d in zip(cumle,dili):\n",
    "    print(f\"{c['text']} ---> {d['detectedLanguage']['name']}\")"
   ]
  },
  {
   "cell_type": "markdown",
   "id": "f4390a2a",
   "metadata": {},
   "source": [
    "### Sürekli sorusun"
   ]
  },
  {
   "cell_type": "code",
   "execution_count": 48,
   "id": "9bad62f9",
   "metadata": {},
   "outputs": [],
   "source": [
    "def fnk_diliOgren(text):\n",
    "    body_dict = {\"documents\":[{\"id\":0, \"text\":text}]}\n",
    "    \n",
    "    cevap = requests.post(service_url, headers=header, data=str(body_dict).encode(\"utf-8\"))\n",
    "    cevap_dict = cevap.json()\n",
    "    \n",
    "    return cevap_dict.get(\"documents\")[0][\"detectedLanguage\"][\"name\"]"
   ]
  },
  {
   "cell_type": "code",
   "execution_count": 50,
   "id": "42b639d8",
   "metadata": {},
   "outputs": [
    {
     "name": "stdout",
     "output_type": "stream",
     "text": [
      "\n",
      "Metin Giriniz: Merhaba dünyalı\n",
      "Dili Turkish\n",
      "\n",
      "Metin Giriniz: How are u\n",
      "Dili English\n",
      "\n",
      "Metin Giriniz: Bonjour\n",
      "Dili French\n",
      "\n",
      "Metin Giriniz: çık\n",
      "Çıkış isteği işleme alındı\n"
     ]
    }
   ],
   "source": [
    "userText = \"\"\n",
    "\n",
    "while userText != \"çık\":\n",
    "    userText = input(\"\\nMetin Giriniz: \")\n",
    "    \n",
    "    if userText.lower() == \"çık\":\n",
    "        print(\"Çıkış isteği işleme alındı\")\n",
    "        break\n",
    "    \n",
    "    print(\"Dili\", fnk_diliOgren(userText))"
   ]
  },
  {
   "cell_type": "code",
   "execution_count": null,
   "id": "c40a1638",
   "metadata": {},
   "outputs": [],
   "source": []
  }
 ],
 "metadata": {
  "kernelspec": {
   "display_name": "Python 3",
   "language": "python",
   "name": "python3"
  },
  "language_info": {
   "codemirror_mode": {
    "name": "ipython",
    "version": 3
   },
   "file_extension": ".py",
   "mimetype": "text/x-python",
   "name": "python",
   "nbconvert_exporter": "python",
   "pygments_lexer": "ipython3",
   "version": "3.10.1"
  },
  "toc": {
   "base_numbering": 1,
   "nav_menu": {},
   "number_sections": true,
   "sideBar": true,
   "skip_h1_title": false,
   "title_cell": "Table of Contents",
   "title_sidebar": "Contents",
   "toc_cell": false,
   "toc_position": {},
   "toc_section_display": true,
   "toc_window_display": false
  },
  "varInspector": {
   "cols": {
    "lenName": 16,
    "lenType": 16,
    "lenVar": 40
   },
   "kernels_config": {
    "python": {
     "delete_cmd_postfix": "",
     "delete_cmd_prefix": "del ",
     "library": "var_list.py",
     "varRefreshCmd": "print(var_dic_list())"
    },
    "r": {
     "delete_cmd_postfix": ") ",
     "delete_cmd_prefix": "rm(",
     "library": "var_list.r",
     "varRefreshCmd": "cat(var_dic_list()) "
    }
   },
   "types_to_exclude": [
    "module",
    "function",
    "builtin_function_or_method",
    "instance",
    "_Feature"
   ],
   "window_display": false
  }
 },
 "nbformat": 4,
 "nbformat_minor": 5
}
