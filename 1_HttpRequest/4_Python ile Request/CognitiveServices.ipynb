{
 "cells": [
  {
   "cell_type": "markdown",
   "id": "7e24e80d-f19b-45a8-a486-57cb775f7227",
   "metadata": {},
   "source": [
    "# Cognitive Servicelere Bağlanma"
   ]
  },
  {
   "cell_type": "code",
   "execution_count": 1,
   "id": "f30cf2a9-ff03-4bd7-99ad-aac46782be19",
   "metadata": {},
   "outputs": [],
   "source": [
    "import requests\n",
    "#import json #örn: dict=json.load(json) , json=json.dumps(dict)"
   ]
  },
  {
   "cell_type": "markdown",
   "id": "3e6cb660-426a-4040-993e-10c7d4117644",
   "metadata": {},
   "source": [
    "## Header Oluşturalım"
   ]
  },
  {
   "cell_type": "code",
   "execution_count": 2,
   "id": "5ec5c9ab-cf92-4558-87d0-521d2b816f85",
   "metadata": {},
   "outputs": [],
   "source": [
    "location=\"northeurope\"\n",
    "key_endpoint=\"b9d0070cfdd94b23aafdd2514dfd5626\""
   ]
  },
  {
   "cell_type": "code",
   "execution_count": 3,
   "id": "891bb040-b444-4358-bd7d-e5efe1fa5711",
   "metadata": {},
   "outputs": [],
   "source": [
    "service_url=f\"https://{location}.api.cognitive.microsoft.com/text/analytics/v3.0/languages\"\n",
    "\n",
    "header={\n",
    "        \"Content-Type\":\"application/json\",\n",
    "        \"Ocp-Apim-Subscription-Key\":key_endpoint\n",
    "       }"
   ]
  },
  {
   "cell_type": "markdown",
   "id": "39681211-b4f9-48e2-945d-8f39d0e6951c",
   "metadata": {},
   "source": [
    "## Body Oluşturalım"
   ]
  },
  {
   "cell_type": "code",
   "execution_count": 4,
   "id": "28b0ba09-1ed8-4905-85f9-fd56b60db14f",
   "metadata": {},
   "outputs": [],
   "source": [
    "metinler=[\"Ok. Ben varım\",\n",
    "          \"Merhaba dünyalı\",\n",
    "          \"Hey whatsapp man\"\n",
    "         ]"
   ]
  },
  {
   "cell_type": "code",
   "execution_count": 11,
   "id": "d4471f84-c814-4d69-a3b9-85481aa91487",
   "metadata": {},
   "outputs": [
    {
     "data": {
      "text/plain": [
       "{'documents': [{'id': 0, 'text': 'Ok. Ben varım'},\n",
       "  {'id': 1, 'text': 'Merhaba dünyalı'},\n",
       "  {'id': 2, 'text': 'Hey whatsapp man'}]}"
      ]
     },
     "execution_count": 11,
     "metadata": {},
     "output_type": "execute_result"
    }
   ],
   "source": [
    "body_dict={\"documents\":[{\"id\":i, \"text\":metinler[i]} for i in range(len(metinler))]}\n",
    "body_dict"
   ]
  },
  {
   "cell_type": "markdown",
   "id": "9885e827-dff6-4262-b7a1-0951ce360feb",
   "metadata": {},
   "source": [
    "## İstek Gönderelim"
   ]
  },
  {
   "cell_type": "code",
   "execution_count": 6,
   "id": "5ee6cf65-a4e6-4a86-ae50-1aaca657ef63",
   "metadata": {},
   "outputs": [],
   "source": [
    "cevap=requests.post(service_url,headers=header, data=str(body_dict).encode(\"utf-8\"))"
   ]
  },
  {
   "cell_type": "code",
   "execution_count": 7,
   "id": "63a73041-d519-4f5a-9f3d-9c685570a90d",
   "metadata": {},
   "outputs": [
    {
     "data": {
      "text/plain": [
       "[{'id': '0',\n",
       "  'detectedLanguage': {'name': 'Turkish',\n",
       "   'iso6391Name': 'tr',\n",
       "   'confidenceScore': 1.0},\n",
       "  'warnings': []},\n",
       " {'id': '1',\n",
       "  'detectedLanguage': {'name': 'Turkish',\n",
       "   'iso6391Name': 'tr',\n",
       "   'confidenceScore': 1.0},\n",
       "  'warnings': []},\n",
       " {'id': '2',\n",
       "  'detectedLanguage': {'name': 'English',\n",
       "   'iso6391Name': 'en',\n",
       "   'confidenceScore': 0.45},\n",
       "  'warnings': []}]"
      ]
     },
     "execution_count": 7,
     "metadata": {},
     "output_type": "execute_result"
    }
   ],
   "source": [
    "cevap_dict = cevap.json() #dict\n",
    "cevap_dict[\"documents\"]"
   ]
  },
  {
   "cell_type": "markdown",
   "id": "3b0078af-d598-4099-b95f-8e81c2cf2a0e",
   "metadata": {},
   "source": [
    "## Metinler ve Çevirisini Birlikte"
   ]
  },
  {
   "cell_type": "code",
   "execution_count": 8,
   "id": "f0635697-ad01-4bc6-aac6-72cf63928807",
   "metadata": {},
   "outputs": [
    {
     "name": "stdout",
     "output_type": "stream",
     "text": [
      "Ok. Ben varım --> Turkish\n",
      "Merhaba dünyalı --> Turkish\n",
      "Hey whatsapp man --> English\n"
     ]
    }
   ],
   "source": [
    "cumle=body_dict[\"documents\"]\n",
    "dili=cevap_dict[\"documents\"]\n",
    "\n",
    "for c,d in zip(cumle,dili):\n",
    "    print(f'{c[\"text\"]} --> {d[\"detectedLanguage\"][\"name\"]}')"
   ]
  },
  {
   "cell_type": "markdown",
   "id": "1a27f44b-28cf-444d-9b00-e1fcfd15cabe",
   "metadata": {},
   "source": [
    "## Sürekli sorsun"
   ]
  },
  {
   "cell_type": "code",
   "execution_count": 31,
   "id": "4ee2facb-44a7-4426-a9b7-17890be63069",
   "metadata": {},
   "outputs": [],
   "source": [
    "def fnk_diliOgren(text):\n",
    "    body_dict={\"documents\":[{\"id\":0, \"text\":text}]}\n",
    "    \n",
    "    cevap=requests.post(service_url,headers=header, data=str(body_dict).encode(\"utf-8\"))\n",
    "    cevap_dict = cevap.json() #dict\n",
    "    \n",
    "    return cevap_dict.get(\"documents\")[0][\"detectedLanguage\"][\"name\"] if cevap_dict.get(\"documents\") else \"Sonuç Dönmedi\""
   ]
  },
  {
   "cell_type": "code",
   "execution_count": 40,
   "id": "261c19c3-ebca-4e70-b54a-41bd4105db40",
   "metadata": {},
   "outputs": [
    {
     "name": "stdin",
     "output_type": "stream",
     "text": [
      "\n",
      "Metin gir:  merhaba\n"
     ]
    },
    {
     "name": "stdout",
     "output_type": "stream",
     "text": [
      "Dili:  Turkish\n"
     ]
    },
    {
     "name": "stdin",
     "output_type": "stream",
     "text": [
      "\n",
      "Metin gir:  How are o\n"
     ]
    },
    {
     "name": "stdout",
     "output_type": "stream",
     "text": [
      "Dili:  English\n"
     ]
    },
    {
     "name": "stdin",
     "output_type": "stream",
     "text": [
      "\n",
      "Metin gir:  w\n"
     ]
    },
    {
     "name": "stdout",
     "output_type": "stream",
     "text": [
      "Dili:  Polish\n"
     ]
    },
    {
     "name": "stdin",
     "output_type": "stream",
     "text": [
      "\n",
      "Metin gir:  çık\n"
     ]
    },
    {
     "name": "stdout",
     "output_type": "stream",
     "text": [
      "Çıkış isteğiniz işleme alındı.\n"
     ]
    }
   ],
   "source": [
    "userText=\"\"\n",
    "while userText != \"çık\":\n",
    "    userText=input(\"\\nMetin gir: \")\n",
    "    \n",
    "    if userText.lower()==\"çık\": \n",
    "        print(\"Çıkış isteğiniz işleme alındı.\")\n",
    "        break;\n",
    "    \n",
    "    print(\"Dili: \",fnk_diliOgren(userText))"
   ]
  },
  {
   "cell_type": "code",
   "execution_count": null,
   "id": "0d5e13a2-6b59-46b6-813d-8cc78e79c920",
   "metadata": {},
   "outputs": [],
   "source": []
  }
 ],
 "metadata": {
  "kernelspec": {
   "display_name": "Python 3",
   "language": "python",
   "name": "python3"
  },
  "language_info": {
   "codemirror_mode": {
    "name": "ipython",
    "version": 3
   },
   "file_extension": ".py",
   "mimetype": "text/x-python",
   "name": "python",
   "nbconvert_exporter": "python",
   "pygments_lexer": "ipython3",
   "version": "3.8.8"
  }
 },
 "nbformat": 4,
 "nbformat_minor": 5
}
